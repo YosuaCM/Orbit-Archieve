{
  "nbformat": 4,
  "nbformat_minor": 0,
  "metadata": {
    "colab": {
      "name": "Kelompok 7_FGD 1.ipynb",
      "provenance": [],
      "collapsed_sections": [],
      "include_colab_link": true
    },
    "kernelspec": {
      "name": "python3",
      "display_name": "Python 3"
    },
    "language_info": {
      "name": "python"
    }
  },
  "cells": [
    {
      "cell_type": "markdown",
      "metadata": {
        "id": "view-in-github",
        "colab_type": "text"
      },
      "source": [
        "<a href=\"https://colab.research.google.com/github/YosuaCM/Orbit-Archieve/blob/main/Kelompok_7_FGD_1.ipynb\" target=\"_parent\"><img src=\"https://colab.research.google.com/assets/colab-badge.svg\" alt=\"Open In Colab\"/></a>"
      ]
    },
    {
      "cell_type": "markdown",
      "source": [
        "**KELOMPOK 7**\n",
        "\n",
        "1. Rafi Aziizi Muchtar\n",
        "2. Sandy Dwi Cahyo\n",
        "3. Yosua Chrisarga Manuntun Marpaung"
      ],
      "metadata": {
        "id": "s7hdpLtn-Cuy"
      }
    },
    {
      "cell_type": "markdown",
      "source": [
        "# PYTHON OOP\n"
      ],
      "metadata": {
        "id": "NlVcRj_E98l2"
      }
    },
    {
      "cell_type": "markdown",
      "source": [
        "**SOAL**\n",
        "1. Apa itu OOP dan cobalah buat 2 implementasi konsep OOP menggunakan python!\n",
        "2. Sebutkan dan jelaskan 2 jenis modules yang ada di Python!\n",
        "3. Hitunglah berapa hasil dari √175 + 4√7 + (1/3) + ³log 81 menggunakan module math!\n",
        "4. Apa itu custom exception handling dan berikan 1 contoh implementasinya!"
      ],
      "metadata": {
        "id": "SlFE2Stf9pnH"
      }
    },
    {
      "cell_type": "markdown",
      "source": [
        "**JAWABAN**\n",
        "1. OOP atau Object Oriented Programming merupakan sebuah konsep dalam pemrograman yang berbasiskan pada suatu objek, sehingga teknik pemrograman di mana semua hal dalam program dimodelkan seperti objek dalam dunia nyata.\n",
        "sebagai contoh yaitu sebuah kucing yang memiliki mulut, mata, telinga hingga perilaku sedang mengeong ataupun memakan yang memiliki fungsinya masing masing."
      ],
      "metadata": {
        "id": "uqQUQlun-99V"
      }
    },
    {
      "cell_type": "code",
      "source": [
        "# Implementasi 1 no 1 \n",
        "class Orang: #class\n",
        "    def __init__(self, nama): #konstruktor\n",
        "        self.nama = nama\n",
        "\n",
        "    def greeting(self): #fungsi/behaviour\n",
        "        print ('Halo, izin memperkenalkan diri nama saya %s, nama mu siapa?' % self.nama)\n",
        "\n",
        "org = Orang('Rafi Aziizi Muchtar') #instansiasi objek\n",
        "org.greeting() #memanggil fungsi pada suatu class"
      ],
      "metadata": {
        "colab": {
          "base_uri": "https://localhost:8080/"
        },
        "id": "qKdMpZIY_k4o",
        "outputId": "b6c5dee1-287d-40ee-c570-b64315b45534"
      },
      "execution_count": null,
      "outputs": [
        {
          "output_type": "stream",
          "name": "stdout",
          "text": [
            "Halo, izin memperkenalkan diri nama saya Rafi Aziizi Muchtar, nama mu siapa?\n"
          ]
        }
      ]
    },
    {
      "cell_type": "code",
      "source": [
        "#implementasi 2 no 1\n",
        "class Segitiga: #class\n",
        "  def __init__(self, alas, tinggi): #konstruktor\n",
        "    self.alas = alas\n",
        "    self.tinggi = tinggi\n",
        "\n",
        "  def get_luas(self): #fungsi/behaviour\n",
        "    return 0.5 * self.alas * self.tinggi\n",
        "\n",
        "segitiga1 = Segitiga(20, 30) #instansiasi objek 1\n",
        "segitiga2 = Segitiga(5, 16) #instansiasi objek 2\n",
        "\n",
        "print('luas segitiga1:', segitiga1.get_luas()) #memanggil fungsi pada class\n",
        "print('luas segitiga2:', segitiga2.get_luas()) #memanggil fungsi pada class"
      ],
      "metadata": {
        "colab": {
          "base_uri": "https://localhost:8080/"
        },
        "id": "fXFMzvIsAJoj",
        "outputId": "fd868184-ed0f-450f-fdc9-c663ae996b92"
      },
      "execution_count": null,
      "outputs": [
        {
          "output_type": "stream",
          "name": "stdout",
          "text": [
            "luas segitiga1: 300.0\n",
            "luas segitiga2: 40.0\n"
          ]
        }
      ]
    },
    {
      "cell_type": "markdown",
      "source": [
        "2. Python Modules merupakan sebuah file yang memiliki ekstensi .py dan berisikan bahasa pemrograman python yang dapat dilakukan import terhadap file bahasa pemrograman python lainnya. dalam prosesnya, diperlukan sintaks \"import\" untuk melakukan pemanggilan modules tersebut pada program lain. Terdapat dua buah modules pada python yaitu Python Custom Modules dan Python Built in Modules.\n",
        "\n",
        "- Python Custom Modules merupakan sebuah cara bagaimana kita membuat sebuah file yang berisikan bahasa pemrograman yang berisikan kode-kode dan biasanya dibangun dengan cara penulisan \"Build from the scratch\". Secara tidak langsung, python custom modules merupakan file yang dibangun oleh sendiri yang berisikan sebuah function, variable ataupun class yang dapat dipanggil pada file python lainnya. cara menggunakan custom modules yaitu dengan perintah \"import namafile\"\n",
        "\n",
        "- Python built-in modules merupakan sebuah file yang didistribusikan oleh python secara langsung dan memiliki berbagai fungsi yang tersedia seperti menghitung statistika pada nilai tertentu. Modul bawaan python sendiri biasanya ditulis dalam bahasa C dan dapat di integrasi dengan python shell maupun python compiler. dalam melakukan akses built-in modules ini dapat menggunakan perintah \"help('modules')\""
      ],
      "metadata": {
        "id": "D5RFZk-yeC7g"
      }
    },
    {
      "cell_type": "code",
      "source": [
        "#Implementasi no 3\n",
        "import math as mt\n",
        "\n",
        "a =mt.sqrt(175) \n",
        "b =4*mt.sqrt(7) #mt.pow(7,(1/4)) indexed root\n",
        "c =1/3 \n",
        "d =mt.log(81,3)\n",
        "total=((a)+(b)+(c)+(d))\n",
        "print(total)"
      ],
      "metadata": {
        "id": "LLiwpvW3BcCA",
        "colab": {
          "base_uri": "https://localhost:8080/"
        },
        "outputId": "c15c6597-d75c-4bb1-aa1c-1709758a772c"
      },
      "execution_count": null,
      "outputs": [
        {
          "output_type": "stream",
          "name": "stdout",
          "text": [
            "28.145095132914648\n"
          ]
        }
      ]
    },
    {
      "cell_type": "markdown",
      "source": [
        "4. Custom Exception Handling merupakan sebuah langkah dalam menangani error pada program secara flow atau terurut sesuai mekanisme yang berlaku, exception handling juga dapat mengalihkan ke flow lainnya apabila terjadi error pada code block tertentu. Apabila sebuah program yang memiliki kompleksitas maka exception diperlukan agar program yang dijalankan tidak terhenti."
      ],
      "metadata": {
        "id": "Q1a84XE-FQjS"
      }
    },
    {
      "cell_type": "code",
      "source": [
        "#Implementasi no 4\n",
        "def konversi(num):\n",
        "    try:\n",
        "        x = int(num)\n",
        "        print(\"Konversi berhasil!, nilai integer x=\", x)\n",
        "    except ValueError:\n",
        "        print(\"Konversi nilai integer gagal!\")\n",
        "    return x\n",
        "konversi(\"144\")\n",
        "convert(\"bb\")"
      ],
      "metadata": {
        "id": "V0uYcNY7FzEg",
        "colab": {
          "base_uri": "https://localhost:8080/"
        },
        "outputId": "b211eb7a-fd22-4776-c20d-d5be93d1bec9"
      },
      "execution_count": null,
      "outputs": [
        {
          "output_type": "stream",
          "name": "stdout",
          "text": [
            "Konversi berhasil!, nilai integer x= 144\n",
            "Konversi gagal!\n"
          ]
        },
        {
          "output_type": "execute_result",
          "data": {
            "text/plain": [
              "-1"
            ]
          },
          "metadata": {},
          "execution_count": 24
        }
      ]
    },
    {
      "cell_type": "markdown",
      "source": [
        "# ARTIFICIAL INTELLIGENCE"
      ],
      "metadata": {
        "id": "hclrHOdA-eZq"
      }
    },
    {
      "cell_type": "markdown",
      "source": [
        "**SOAL**\n",
        "1. Apa perbedaan dari structured dan unstructured data dan sebutkan 3 sumber data!\n",
        "2. Jelaskan perbedaan AI, Machine Learning dan Deep Learning!\n",
        "3. Apa perbedaan Machine Learning dengan Tradisional software?\n",
        "4. Sebutkan 3 contoh aplikasi Machine Learning di sektor smart city dan agriculture!"
      ],
      "metadata": {
        "id": "GW67wuMX-nOE"
      }
    },
    {
      "cell_type": "markdown",
      "source": [
        "1.\tApa perbedaan dari Data Terstruktur dan Tidak Terstruktur dan sebutkan 3 sumber data ?\n",
        "\t\n",
        "  Data terstruktur merupakan data yang yang dapat diproses, disimpan, dan diambil dalam format tetap. Data terstruktur merupakan data yang memiliki informasi yang lengkap dan sesuai dengan kriteria yang dibutuhkan sehingga lebih mudah untuk dibaca dan diolah. Normalnya kita mengenal sebagai data terstruktur yang ada dalam excel atau spreadsheet. Data terstruktur adalah yang membuat model data. Contohnya adalah data penjualan pada suatu perusahaan, data CRM, Industry Research Data dan lain sebagainya. Tentunya, hal ini akan sangat memudahkan pengolahan karena sudah memiliki struktur yang baku dan tidak akan berubah-ubah. Data terstruktur biasanya dijalankan untuk mengakses database yang disebut dengan Structured Query Languange atau yang lebih dikenal dengan SQL.\n",
        "\t\n",
        "  Sedangkan data tidak terstruktur merupakan data yang tidak memiliki bentuk atau struktur khusus . Data tidak terstruktur merupakan data yang memiliki informasi yang kurang lengkap atau tidak sesuai dengan kriteria yang dibutuhkan sehingga dibutuhkan proses lanjutan agar mudah untuk dibaca dan diolah. Contohnya adalah data yang berformat foto atau gambar, video, atau suara. Hal ini sangat menyulitkan pengolahan dan analisis data sehingga diperlukan tahapan cleaning atau pembersihan data. Data tersebut harus dirapikan sesuai dengan aturan pengolahan sehingga mudah untuk dilakukan tabulasi hasil.\n",
        "\n",
        "  3 Sumber Data;\n",
        "\n",
        "  •\tMachine Generated Data (MGD) atau data yang dihasilkan mesin, adalah sumber Big Data terbesar. Sebagai contohnya, kamu dapat melihat pada saat pesawat Boeing maupun AirBus menghasilkan data.\n",
        "\n",
        "  •\tKedua, People Generated Data (PGD) atau data yang dihasilkan manusia. Saat ini, hampir semua orang aktif di media sosial. Orang-orang menghasilkan sejumlah besar data di media sosial seperti Facebook, Twitter, dan LinkedIn.\n",
        "\n",
        "  •\tOGD (Organization Generated Data) sumber Big Data yang ketiga, dapat dilihat pada perusahaan taksi yang telah beradaptasi ke layanan daring sebagai contohnya, bahkan berkolaborasi dengan platform daring lainnya.\n",
        "\n",
        "2.\tJelaskan perbedaan AI, Machine Learning dan Deep Learning! \n",
        "\n",
        "  Artificial Intelligence atau Kecerdasan Buatan adalah istilah yang sangat luas yang bertujuan untuk membawa perilaku cerdas ke dalam mesin. Machine Learning dapat dianggap sebagai salah satu filosofi yang mana tujuan utamanya adalah, \"bukan mesin pemrograman secara eksplisit, hanya memberi mereka data dan biarkan mereka belajar\". Dalam beberapa pendekatan machine learning ini juga ada terlalu banyak sub kategori: pembelajaran yang diawasi (melatih dataset berlabel dan membuat model untuk memprediksi dataset tanpa label), pembelajaran tanpa pengawasan (menggambar kesimpulan yang bermakna dari dataset tanpa label, pengelompokan menjadi contoh yang paling populer), pembelajaran penguatan (pemberian Algoritma dan fungsi obyektif untuk mengoptimalkan berdasarkan hadiah langsung untuk setiap tindakan yang diperlukan, misalnya: catur bermain robot), dll. \n",
        "  \n",
        "  Machine learning (ML) adalah sub bidang dari artificial intelligence (AI). Machine learning bertujuan untuk membawa kecerdasan buatan melalui belajar dari data. Data digunakan machine learning sebagai kode untuk komputasi tradisional. Cara lain untuk memperoleh kecerdasan dalam mesin bisa melalui pemrograman logis, penalaran induktif berdasarkan aturan dasar dan sebagainya. Dengan demikian machine learning dapat dianggap sebagai salah satu pendekatan menuju kecerdasan buatan. Berdasarkan sifat dari berbagai masalah yang ada dan kelimpahan data untuk masalah itu, wajar saja bahwa machine learning merupakan pendekatan untuk mencapai AI. Fakta bahwa korpus data sangat besar dan terus meningkat, sumber daya komputasi (mesin dan manusia) terbatas dan tidak mungkin untuk bekerja melalui pemrograman berbasis aturan telah mendorong pendekatan AI keseluruhan terhadap ML. \n",
        " \n",
        "  Deep learning di sisi lain adalah metode machine learning yang berkembang pesat. Dalam pengaturan machine learning yang normal, salah satu masalah yang paling sulit adalah rekayasa fitur. Rekayasa fitur berkaitan dengan ekstraksi fitur yang sesuai yang dapat dimasukkan ke dalam model. Jika fitur tidak lengkap atau kurang, model ini cacat (bias tinggi) dan jika fitur terlalu banyak dan tidak semuanya berkontribusi pada keluaran model, model ini kembali cacat (varian tinggi). Jika kita memiliki terlalu banyak fitur, kita memerlukan dataset yang sangat sangat besar untuk dipelajari dari model yang salah. Dalam machine learning ada sub-bidang yang disebut 'pembelajaran representasional' juga dikenal sebagai 'pembelajaran fitur' yang bertujuan mengekstrak fitur dari data seperti gambar di mana fitur pengambilan tangan oleh insinyur manusia sama sekali tidak layak. Deep learning didasarkan pada pembelajaran representasional. Implementasi itu terdiri dari banyak lapisan jaringan saraf (lebih tinggi jumlah lapisan, lebih dalam model) di mana setiap lapisan mendapat masukan dari lapisan sebelumnya dan dibagikan ke lapisan berikutnya. Lapisan permulaan berhubungan dengan fitur yang lebih umum dan kasar dan ketika jaringan semakin dalam, ia dapat mempelajari perincian yang lebih baik dari dataset yang akhirnya memberikan output dengan faktor keyakinan tertentu.\n",
        "\n",
        "\n",
        "3.\tApa perbedaan Machine Learning dengan Tradisional software?\n",
        "\n",
        "  Software development biasa atau bisa disebut pelakunya adalah programmer dan coder adalah proses pembangunan software dengan mengetahui dahulu background knowledge kemudian melakukan pemrograman software berdasarkan fungsional dari yang diketahui. Di software development biasa, kita tidak perlu memiliki data existing, malah dari program yang dibuat tersebut dimaksudkan untuk menambang data yang ada. Jadi kita tidak memerlukan data lama. Software development biasa tidak dapat melakukan prediksi. Hal ini dikarenakan software biasa hanya dapat menampilkan/memvisualisasikan atau juga menyimpulkan dari data yang sudah diinputkan oleh user. Software biasa tidak dapat memprediksi hasil dari user ataupun input yang user akan masukan di masa depan.\n",
        "\n",
        "  Machine learning sendiri sebenarnya tidak memerlukan background knowledge dari developernya. Tidak seperti software biasa, machine learning juga tidak perlu diperintah melakukan apa. Kita hanya membangun pipeline neural network, dan seiring pemasukan data terus menerus machine learning model akan menyesuaikan diri sehingga akhirnya kita dapat acuracy >80 %. Jadi tanpa adanya background knowledge dari apa yang kita buat sebenarnya software dapat dibuat. Hal ini dikarenakan kita sudah memprovide data yang ada. Jadi hanya melakukan apa yang data itu lakukan, seperti belajar dari alam, jika dalam perspektif makhluk hidup.\n",
        "\n",
        "\n",
        "4.\tSebutkan 3 contoh aplikasi Machine Learning di sektor smart city dan agriculture!\n",
        "\n",
        "  Sektor Smart City\n",
        "\n",
        "- Media Social Mapping dan Panic Button\n",
        "\n",
        "  Bandung baru saja merilis Media Social Mapping (MSM) pada pertengahan 2015. Wali Kota Bandung, Ridwan Kamil, menjelaskan bahwa aplikasi canggih ini mampu menangkap segala macam percakapan warga di media sosial di wilayah tertentu. Nantinya, apabila ada masalah yang terjadi, aplikasi akan langsung menghubungkannya pada bagian pelayanan publik. MSM merupakan aplikasi yang dihibahkan oleh pemerintah Norwegia sebagai upaya uji coba.\n",
        "\n",
        "  Selain itu, ada pula Panic Button. Berbeda dengan MSM, aplikasi ini sudah diujicobakan di beberapa kota yang sedang menuju terwujudnya smart city. Malang adalah salah satunya. Aplikasi ini terhubung ke sistem milik aparat yang berwenang. Apabila ada pengguna yang merasa membutuhkan bantuan maupun merasa terancam, pengguna bisa menekan tombol Help di Panic Button. Dalam waktu singkat petugas keamanan akan datang ke lokasi berdasarkan sinyal GPS. Sistem Panic Button sebenarnya mirip dengan panggilan 911 di Amerika Serikat.\n",
        "\n",
        "-\tQlue\n",
        "Qlue termasuk yang paling terkenal di daftar ini. Terutama karena ini adalah aplikasi yang digunakan di DKI Jakarta. Sebagai wilayah Ibu Kota yang terbagi dalam lima kota, satu kabupaten, 44 kecamatan, 267 kelurahan, dan penduduknya yang sangat padat, Jakarta jelas butuh aplikasi yang mampu mempermudah penyaluran aspirasi masyarakat.\n",
        "-\tTanggerang Live\n",
        "Tangerang membuat aplikasi Tangerang Live. Aplikasi ini berbeda dengan aplikasi sebelum-sebelumnya yang telah dirilis oleh kota ini. Tangerang Live merupakan aplikasi yang mengumpulkan berbagai fitur andalan ke dalam satu sistem. Hal ini akan memudahkan user sehingga tidak perlu mengunduh layanan satu per satu. Tangerang Live memiliki fitur Berita, Layanan Aspirasi Kotak Saran Anda (LAKSA), E-Paper, Siap Kerja, Segar dan Perizinan.\n",
        "\n",
        "  Sektor Agriculture\n",
        "-\tFJ Dynamics\n",
        "Menggunakan Microsoft Azure Cloud Platform, FJ Dynamics membangun platform Internet of Things (IoT) yang efisien dan aman. Kendaraan dan mesin-mesin otonom yang membekal sensor mengumpulkan, menganalisis, dan bertindak berdasarkan data. Dengan membuat model digital 3D ladang pertanian, sistem dapat memandu kendaraan pertanian, seperti traktor otonom, untuk bergerak dan membajak kebun secara mandiri.\n",
        "Solusi digital ini tidak hanya dapat digunakan di pertanian besar, lahan pertanian yang kecil pun dapat memanfaatkan teknologi ini. Dengan prosedur operasional terpusat ini, hasil panen dapat ditingkatkan sambil mengurangi limbah. Hasilnya pertanian menjadi lebih efisien dan berkelanjutan. “Efisiensi kerja kami meningkat sepuluh  persen setelah mengadopsi robot pintar dari FJ Dynamics. Karena robot pertanian otonom ini dapat bekerja selama 24 jam sehingga dapat membantu mengurangi waktu kerja saya di lahan pertanian.\n",
        "-\t\n",
        "\n",
        "\n",
        "\n",
        "\n",
        "\n"
      ],
      "metadata": {
        "id": "F9rleXijLUJp"
      }
    },
    {
      "cell_type": "markdown",
      "source": [
        "# MATHS FOR AI"
      ],
      "metadata": {
        "id": "MSy3De9u-ora"
      }
    },
    {
      "cell_type": "markdown",
      "source": [
        "**SOAL**\n",
        "1. Mengapa ilmu matematika penting ketika mempelajari AI?\n",
        "2. Jelaskan perbedaan vektor dan skalar!\n",
        "3. Apa perbedaan dari Jarak Euclidean dan Manhattan?\n",
        "4. Apa kegunaan matriks dalam ilmu matematika ketika menerapkan AI?"
      ],
      "metadata": {
        "id": "1Up8H2Kk-tvo"
      }
    },
    {
      "cell_type": "markdown",
      "source": [
        "**JAWABAN**\n",
        "1. Beberapa penjelasan keterkaitan antara matematika dengan AI adalah sebagai berikut :\n",
        "- Apabila seseorang ingin membangun sebuah program yang memiliki tahapan algoritma tertentu, maka matematika sangat penting dalam melakukan implementasi algoritma tersebut.\n",
        "- semua penelitian  menggunakan persamaan, rumus, maupun teknik dan bagaimana data tersebut diolah dan diselesaikan secara matematis dengan mekanisme yang dibutuhkan.\n",
        "- diperlukan pemahaman matematika untuk sebuah notasi atau simbol simbol tertentu dalam melakukan penyelesaian proyek AI.\n",
        "- Dalam beberapa Proyek AI Kompleks seperti Machine Learning, Deep learning ataupun NLP menggunakan frame PyTorch, Tensorflow, Keras maupun NumPy untuk mengembangkan proyek yang kompleks diperlukan pemahaman secara matematis.\n",
        "- Proses konfigurasi terhadap AI diperlukan pemahaman ilmu matematika dalam melakukan penentuan yang tepat dan baik.\n",
        "\n",
        "2. Vektor merupakan sebuah besaran yang memiliki kumpulan nilai dari variable tertentu dan vektor juga memiliki arah. Skalar merupakan konstanta yang memiliki nilai didalamnya dan tidak memiliki arah. sehingga perbedaannya yaitu vektor bergantung terhadap sistem koordinat sedangkan skalar tidak bergantung terhadap sistem koordinat\n",
        "\n",
        "3. Perbedaan antara jarak euclidean dan manhattan dijelaskan pada bagian di bawah ini yaitu :\n",
        "- Euclidean Distance berkaitan dengan Teorema Phytagoras dan biasanya diterapkan pada 1, 2 dan 3 dimensi.\n",
        "- Euclidean distance adalah perhitungan jarak dari 2 buah titik dalam Euclidean space.\n",
        "- Jarak Manhattan merupakan dua titik yang jumlah dari panjang ruas garis kedua titik tersebut terhadap tiap sumbu dalam koordinat Kartesius.\n",
        "- Manhattan Distance digunakan untuk analisis regresi.\n",
        "\n",
        "![manhattan.png](data:image/png;base64,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)\n",
        "\n",
        "4. Matriks digunakan dalam ilmu matematika untuk melakukan berbagai perhitungan seperti pada computer vision yaitu image processing yang dilakukan konversi ataupun penambahan nilai pada citra berdasarkan baris dan kolom suatu matriks seperti merubah citra RGB menjadi Grayscale ataupun pada proses konvolusi yaitu proses ekstraksi fitur untuk mendapatkan nilai dari gambar tersebut menggunakan stride ataupun filter yang memiliki ukuran baris x kolom. "
      ],
      "metadata": {
        "id": "L7NcIvHLabWY"
      }
    },
    {
      "cell_type": "markdown",
      "source": [
        "# Machine Learning"
      ],
      "metadata": {
        "id": "IHIrZHrQ-uA3"
      }
    },
    {
      "cell_type": "markdown",
      "source": [
        "**SOAL**\n",
        "1. Jelaskan perbedaan supervised dan unsupervised learning dan sebutkan 2 contohnya!\n",
        "2. Sebutkan setiap tahap yang ada di Machine Learning life cycle dan jelaskan!\n",
        "3. Apa perbedaan regression dengan clustering?\n",
        "4. Apa itu algoritma Artificial Neural Network dan untuk apa fungsinya?"
      ],
      "metadata": {
        "id": "EC4kl4IH-8ZV"
      }
    },
    {
      "cell_type": "markdown",
      "source": [
        "Jawab:\n",
        "1. Perbedaan supervised dan unsupervised learning yaitu:\n",
        "*   Proses\n",
        "\n",
        "    Supervised learning dapat diberikan variabel input dan ouput sedangkan unsupervised learning hanya diberikan data input saja\n",
        "*   Memasukkan data\n",
        "\n",
        "    Supervised learning menggunakan data label sedangkan unsupervised learning tidak menggunakan data label\n",
        "\n",
        "\n",
        "\n",
        "contoh dari supervised learning yaitu:\n",
        "*   logistic regression\n",
        "*   Clasification (Categorical) and Regression (Numerical)\n",
        "*   Model Ensemble\n",
        "*   Time series\n",
        "\n",
        "contoh dari unsupervised learning yaitu:\n",
        "\n",
        "*   Clustering\n",
        "*   Anomaly Detection\n",
        "*   Association Discovery\n",
        "*   Training Model\n",
        "\n",
        "2. Tahapan pada machine learning life cyle yaitu:\n",
        "\n",
        "\n",
        "*   Identify data\n",
        "\n",
        "Ini merupakan proses awal dalam membuat rancangan machine learning. Pertama kali harus mengidentifikasi masalah yang ingin dipecahkan. Caranya dengan pendekatan logis dan matematis. Mengidentifikasi data dapat digunakan untuk membuat pertanyaan dasar. Agar alur yang kita buat tidak keluar dari topik awal pembahasan .\n",
        "*   Prepare data\n",
        "\n",
        "Data sangat berperan dari pem, buatan model machine learning. Semakin banyak data yang disiapkan, semakin valid output yang dihasilkan oleh machine learning. Dalam pengumpulan data, terdapat dua metode yaitu data mining dan web scrapping.\n",
        "*   Select ML Algorithm\n",
        "\n",
        "Langkah selanjutnya adalah memilih algoritma yang cocok untuk menangani problem yang muncul. Berikut beberapa metode algoritma yang bisa digunakan seperti supervised learning untuk memprediksi masa depan. Sedangkan reinforcement learning yaitu proses pengambilan keputusan\n",
        "*   Split Data\n",
        "\n",
        "Proses ini terjadi saat pembagian data agar memudahkan dalam proses selanjutnya. Dengan data yang dibagi ini model machine learning mudah untuk diidentifikasi.\n",
        "*   Train\n",
        "\n",
        "Proses train digunakan untuk melatih tubuh machine learning dengan mengisikan data yang sudah diproses. Mulai dari proses mengidentifikasi, mempersiapkan data, dan memilih algoritma yang tepat.\n",
        "\n",
        "Tak lupa membagi data yang sudah diproses. Mesin dilatih agar dapat menentukan data yang masuk sesuai dengan klasifikasinya.\n",
        "*   Evaluate\n",
        "\n",
        "Proses yang keenam adalah mengevalusai kembali machine learning. Apakah datanya yang dimasukan sudah benar. Apakah sedah sesuai dengan yang diajarkan.\n",
        "\n",
        "Proses ini menentukan keakuratan prediksi atau hasil dari machine learning yang kita buat.\n",
        "*   Predict\n",
        "\n",
        "Nah, ini merupakan uji coba apakah machine learning yang telah kita buat bekerja dengan baik. Caranya dengan melihat hasil atau prediksi yang dihasilkan.\n",
        "\n",
        "Apakah sesuai dengan input data. Dapat dikatakan proses ini proses semifinal sebelum diproses ke tahap selanjutnya.\n",
        "*   Deploy\n",
        "\n",
        "Berikut merupakan proses akhir dalam membangun model machine learning yaitu proses deploy. Proses ini langsung menerapkan kepada masalah. Tentunya untuk melihat prediksi dari data yang ada .\n",
        "\n",
        "\n",
        "\n",
        "\n",
        "\n",
        "3.Apa perbedaan regression dengan clustering?\n",
        "\n",
        "  Regresi adalah suatu teknik analisis untuk mengidentifikasi relasi atau hubungan diantara dua variabel atau lebih. Regresi bertujuan untuk menemukan suatu fungsi yang memodelkan data dengan meminimalkan error atau selisih antara nilai prediksi dengan nilai sebenarnya. Regresi termasuk ke dalam supervised learning yang digunakan untuk memprediksi nilai kontinu\n",
        "  Sedangkan\n",
        "  Clustering atau klasterisasi termasuk unsupervised learning. Clustering dilakukan jika kita ingin menemukan klaster dari sebuah dataset.Klaster adalah sebuah kumpulan data atau objek yang memiliki kemiripan satu sama lain di dalam kumpulan atau kelompok tersebut, dan berbeda dengan objek di kelompok lain.Tidak seperti klasifikasi dimana setiap data latih sudah memiliki label alias sudah ditentukan kelasnya, dalam clustering, data tidak berlabel.\n",
        "\n",
        "4 . Algoritm Artificial Neural Network merupakan sebuah algoritma yang diimplementasikan dari manusia ke dalam komputer untuk dapat memproses sebuah rangsangan atau stimulus menjadi sebuah output.\n",
        "\n",
        "![ANN1.jpg](data:image/jpeg;base64,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)\n",
        "\n",
        "Algoritma Artificial Neural Network berfungsi untuk melakukan prediksi, mengoptimalkan masalah, mengklasifikasi pola, memetakan pola dari input ke output, memetakan berbagai pola yang sejenis dan menyimpan pola."
      ],
      "metadata": {
        "id": "G4nKP6gxB54P"
      }
    }
  ]
}