{
  "nbformat": 4,
  "nbformat_minor": 0,
  "metadata": {
    "colab": {
      "name": "Untitled11.ipynb",
      "provenance": [],
      "authorship_tag": "ABX9TyPpVO1A4eE1Pw2QmlaTv4Ba",
      "include_colab_link": true
    },
    "kernelspec": {
      "name": "python3",
      "display_name": "Python 3"
    },
    "language_info": {
      "name": "python"
    }
  },
  "cells": [
    {
      "cell_type": "markdown",
      "metadata": {
        "id": "view-in-github",
        "colab_type": "text"
      },
      "source": [
        "<a href=\"https://colab.research.google.com/github/YosuaCM/Orbit-Archieve/blob/main/FGD%20day%202.ipynb\" target=\"_parent\"><img src=\"https://colab.research.google.com/assets/colab-badge.svg\" alt=\"Open In Colab\"/></a>"
      ]
    },
    {
      "cell_type": "code",
      "execution_count": 9,
      "metadata": {
        "colab": {
          "base_uri": "https://localhost:8080/"
        },
        "id": "G_eczwIv2RpT",
        "outputId": "a2a01319-1541-48c4-cb1c-eec0b9227127"
      },
      "outputs": [
        {
          "name": "stdout",
          "output_type": "stream",
          "text": [
            "Pemain 1 : Gunting\n",
            "Pemain 2 : Gunting\n",
            "Seri\n",
            "Mau bermain lagi?\n",
            "ya\n",
            "Pemain 1 : Batu\n",
            "Pemain 2 : kertas\n",
            "Pemain 2 Menang\n",
            "Mau bermain lagi?\n",
            "ya\n",
            "Pemain 1 : batu\n",
            "Pemain 2 : gunting\n",
            "Pemain 1 Menang\n",
            "Mau bermain lagi?\n",
            "tidak\n"
          ]
        }
      ],
      "source": [
        "p1win = \"Pemain 1 Menang\"\n",
        "p2win = \"Pemain 2 Menang\"\n",
        "\n",
        "while True:\n",
        "    p1 = str(input(\"Pemain 1 : \"))\n",
        "    p2 = str(input(\"Pemain 2 : \"))\n",
        "\n",
        "    a=p1.lower()\n",
        "    b=p2.lower()\n",
        "    \n",
        "    list_gbk = ['gunting','batu','kertas']\n",
        "\n",
        "    if a == b:\n",
        "        print(\"Seri\")\n",
        "    elif a == list_gbk[0]:\n",
        "        if b == list_gbk[1]:\n",
        "            print(p2win)\n",
        "        elif b == list_gbk[2]:\n",
        "            print(p1win)\n",
        "        else:\n",
        "            print(\"Input tidak valid!. Gunakan “batu”, “ gunting” dan “kertas” tanpa tanda kutip!\")\n",
        "    elif a == list_gbk[1]:\n",
        "        if b == list_gbk[2]:\n",
        "            print(p2win)\n",
        "        elif b == list_gbk[0]:\n",
        "            print(p1win)\n",
        "        else:\n",
        "            print(\"Input tidak valid!. Gunakan “batu”, “ gunting” dan “kertas” tanpa tanda kutip!\")\n",
        "    elif a == list_gbk[2]:\n",
        "        if b == list_gbk[1]:\n",
        "            print(p2win)\n",
        "        elif b == list_gbk[0]:\n",
        "            print(p1win)\n",
        "        else:\n",
        "            print(\"Input tidak valid!. Gunakan “batu”, “ gunting” dan “kertas” tanpa tanda kutip!\")\n",
        "    else:\n",
        "        print(\"Input tidak valid!. Gunakan “batu”, “ gunting” dan “kertas” tanpa tanda kutip!\")\n",
        "        \n",
        "    if input(str(\"Mau bermain lagi?\\n\"))=='tidak':\n",
        "        break\n"
      ]
    },
    {
      "cell_type": "code",
      "source": [
        "while True :\n",
        "    a = input(\"Masukkan Kata : \" ).lower()\n",
        "    if a == 'berhenti':\n",
        "        break"
      ],
      "metadata": {
        "colab": {
          "base_uri": "https://localhost:8080/"
        },
        "id": "s0fX0yqu50sr",
        "outputId": "de53f6ca-b740-4304-cbcb-202658e448b2"
      },
      "execution_count": 6,
      "outputs": [
        {
          "name": "stdout",
          "output_type": "stream",
          "text": [
            "Masukkan Kata : NAMA\n",
            "Masukkan Kata : SaYa\n",
            "Masukkan Kata : budi\n",
            "Masukkan Kata : berhenti\n"
          ]
        }
      ]
    },
    {
      "cell_type": "code",
      "source": [
        "while True:\n",
        " print(\"MENU JAJANAN PASAR\")\n",
        " print(\"1. Donat - 1250 \\n2. Bakwan - Rp 1000\\n3. Onde-onde - Rp800\\n4. Lemper - Rp 1250\\n5. Risol - Rp 1500\")\n",
        "\n",
        " makan = str(input(\"Pilih Menu Makanan : \"))\n",
        " x = makan.lower()\n",
        " list_makan = ['donat','bakwan','onde-onde','lemper','risol']\n",
        " if x == list_makan[0]:\n",
        "     print(\"Kamu memesan donat dengan harga Rp 1250, terima kasih sudah belanja!\")\n",
        " elif x == list_makan[1]:\n",
        "     print(\"Kamu memesan Bakwan dengan harga Rp 1000, terima kasih sudah belanja!\")\n",
        " elif x == list_makan[2]:\n",
        "     print(\"Kamu memesan Onde-onde dengan harga Rp 800, terima kasih sudah belanja!\")\n",
        " elif x == list_makan[3]:\n",
        "     print(\"Kamu memesan Lemper dengan harga Rp 1250, terima kasih sudah berbelanja!\")\n",
        " elif x == list_makan[4]:\n",
        "     print(\"Kamu memesan Risol dengan harga Rp 1500, terima kasih sudah berbelanja!\")\n",
        " else:\n",
        "     print(\"Inputan anda salah hehehe...\")\n",
        "\n",
        " if input(str(\"Mau pesan Lagi?\\n\")) == 'cukup':\n",
        "     print(\"Terima Kasih sudah berbelanja jajanan pasar kami!\")\n",
        "     break"
      ],
      "metadata": {
        "colab": {
          "base_uri": "https://localhost:8080/"
        },
        "id": "3v77JDlp7VyR",
        "outputId": "5d261f33-7ea0-4f85-fea6-a148caef8c24"
      },
      "execution_count": 7,
      "outputs": [
        {
          "output_type": "stream",
          "name": "stdout",
          "text": [
            "MENU JAJANAN PASAR\n",
            "1. Donat - 1250 \n",
            "2. Bakwan - Rp 1000\n",
            "3. Onde-onde - Rp800\n",
            "4. Lemper - Rp 1250\n",
            "5. Risol - Rp 1500\n",
            "Pilih Menu Makanan : Donat\n",
            "Kamu memesan donat dengan harga Rp 1250, terima kasih sudah belanja!\n",
            "Mau pesan Lagi?\n",
            "ya\n",
            "MENU JAJANAN PASAR\n",
            "1. Donat - 1250 \n",
            "2. Bakwan - Rp 1000\n",
            "3. Onde-onde - Rp800\n",
            "4. Lemper - Rp 1250\n",
            "5. Risol - Rp 1500\n",
            "Pilih Menu Makanan : bakwan\n",
            "Kamu memesan Bakwan dengan harga Rp 1000, terima kasih sudah belanja!\n",
            "Mau pesan Lagi?\n",
            "cukup\n",
            "Terima Kasih sudah berbelanja jajanan pasar kami!\n"
          ]
        }
      ]
    }
  ]
}