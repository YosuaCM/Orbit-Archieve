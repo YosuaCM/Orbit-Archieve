{
  "nbformat": 4,
  "nbformat_minor": 0,
  "metadata": {
    "colab": {
      "name": "Quiz 2.ipynb",
      "provenance": [],
      "authorship_tag": "ABX9TyNtPL/39P2Ky3tFrXESRB4d",
      "include_colab_link": true
    },
    "kernelspec": {
      "name": "python3",
      "display_name": "Python 3"
    },
    "language_info": {
      "name": "python"
    }
  },
  "cells": [
    {
      "cell_type": "markdown",
      "metadata": {
        "id": "view-in-github",
        "colab_type": "text"
      },
      "source": [
        "<a href=\"https://colab.research.google.com/github/YosuaCM/Orbit-Archieve/blob/main/Quiz_2.ipynb\" target=\"_parent\"><img src=\"https://colab.research.google.com/assets/colab-badge.svg\" alt=\"Open In Colab\"/></a>"
      ]
    },
    {
      "cell_type": "code",
      "source": [
        "with open('file_lagu.txt') as data:\n",
        "  for test in data:\n",
        "    print(test.split('\\n')[0])"
      ],
      "metadata": {
        "colab": {
          "base_uri": "https://localhost:8080/"
        },
        "id": "hFL8fE_59y5v",
        "outputId": "f5f1c743-1450-454c-b0f3-817fdca35546"
      },
      "execution_count": 4,
      "outputs": [
        {
          "output_type": "stream",
          "name": "stdout",
          "text": [
            "penyanyi,judul lagu,asal penyanyi,jumlah_diputar\n",
            "shawn mendes,treat you better,can,1 milyar\n",
            "shawn mendes,imagination,canada,1 milyar\n",
            "ariana grande,position,usa,700 juta\n",
            "arianda grande,bang bang,usa,2 milyar\n",
            "justin bieber,sorry,can,1 milyar\n",
            "justin bieber,lonely,can,200 juta\n",
            "fiera bersari,waktu yang salah,idn,70 juta\n",
            "lyodra ginting,pesan terakhir,idn,10 juta\n",
            "armada,awas jatuh cinta,idn,60 juta\n",
            "raisa,ragu,idn,30 juta\n"
          ]
        }
      ]
    },
    {
      "cell_type": "code",
      "execution_count": 3,
      "metadata": {
        "colab": {
          "base_uri": "https://localhost:8080/",
          "height": 245
        },
        "id": "6eIesHEycWTM",
        "outputId": "6027c8f2-a227-4e7c-c5b7-98fef9d767ab"
      },
      "outputs": [
        {
          "output_type": "error",
          "ename": "FileNotFoundError",
          "evalue": "ignored",
          "traceback": [
            "\u001b[0;31m---------------------------------------------------------------------------\u001b[0m",
            "\u001b[0;31mFileNotFoundError\u001b[0m                         Traceback (most recent call last)",
            "\u001b[0;32m<ipython-input-3-6ab9c0ebbcd7>\u001b[0m in \u001b[0;36m<module>\u001b[0;34m()\u001b[0m\n\u001b[0;32m----> 1\u001b[0;31m \u001b[0mfile\u001b[0m \u001b[0;34m=\u001b[0m \u001b[0mopen\u001b[0m\u001b[0;34m(\u001b[0m\u001b[0;34m'file_lagu.txt'\u001b[0m\u001b[0;34m,\u001b[0m\u001b[0;34m'r'\u001b[0m\u001b[0;34m)\u001b[0m\u001b[0;34m\u001b[0m\u001b[0;34m\u001b[0m\u001b[0m\n\u001b[0m\u001b[1;32m      2\u001b[0m \u001b[0mfile2\u001b[0m \u001b[0;34m=\u001b[0m \u001b[0mopen\u001b[0m\u001b[0;34m(\u001b[0m\u001b[0;34m'raisa.txt'\u001b[0m\u001b[0;34m,\u001b[0m \u001b[0;34m'w'\u001b[0m\u001b[0;34m)\u001b[0m\u001b[0;34m\u001b[0m\u001b[0;34m\u001b[0m\u001b[0m\n\u001b[1;32m      3\u001b[0m \u001b[0mfile3\u001b[0m \u001b[0;34m=\u001b[0m \u001b[0mopen\u001b[0m\u001b[0;34m(\u001b[0m\u001b[0;34m'shawn mendes.txt'\u001b[0m\u001b[0;34m,\u001b[0m \u001b[0;34m'w'\u001b[0m\u001b[0;34m)\u001b[0m\u001b[0;34m\u001b[0m\u001b[0;34m\u001b[0m\u001b[0m\n\u001b[1;32m      4\u001b[0m \u001b[0mfile4\u001b[0m \u001b[0;34m=\u001b[0m \u001b[0mopen\u001b[0m\u001b[0;34m(\u001b[0m\u001b[0;34m'ariana grande.txt'\u001b[0m\u001b[0;34m,\u001b[0m \u001b[0;34m'w'\u001b[0m\u001b[0;34m)\u001b[0m\u001b[0;34m\u001b[0m\u001b[0;34m\u001b[0m\u001b[0m\n\u001b[1;32m      5\u001b[0m \u001b[0mfile5\u001b[0m \u001b[0;34m=\u001b[0m \u001b[0mopen\u001b[0m\u001b[0;34m(\u001b[0m\u001b[0;34m'justin bieber.txt'\u001b[0m\u001b[0;34m,\u001b[0m \u001b[0;34m'w'\u001b[0m\u001b[0;34m)\u001b[0m\u001b[0;34m\u001b[0m\u001b[0;34m\u001b[0m\u001b[0m\n",
            "\u001b[0;31mFileNotFoundError\u001b[0m: [Errno 2] No such file or directory: 'file_lagu.txt'"
          ]
        }
      ],
      "source": [
        "file = open('file_lagu.txt','r')\n",
        "file2 = open('raisa.txt', 'w')\n",
        "file3 = open('shawn mendes.txt', 'w')\n",
        "file4 = open('ariana grande.txt', 'w')\n",
        "file5 = open('justin bieber.txt', 'w')\n",
        "file6 = open('fiera bersari.txt', 'w')\n",
        "file7 = open('lyodra ginting.txt', 'w')\n",
        "file8 = open('armada.txt', 'w')\n",
        "file9 = open('total.txt', 'w')\n",
        "\n",
        "\n",
        "\n",
        "file.close()\n",
        "file2.close()\n",
        "file3.close()\n",
        "file4.close()\n",
        "file5.close()\n",
        "file6.close()\n",
        "file7.close()\n",
        "file8.close()\n",
        "file9.close()"
      ]
    },
    {
      "cell_type": "code",
      "source": [
        "file = open('file_lagu.txt','r')\n",
        "file2 = open('raisa.txt', 'w')\n",
        "\n",
        "file2.write(\"penyanyi,judul lagu,asal penyanyi,jumlah_diputar\")\n",
        "file2.write(\"\\nraisa,ragu,idn,indonesia,30 juta\")\n",
        "file2.write(\"\\nraisa,kali kedua,idn,indonesia,56 juta\")\n",
        "file2.write(\"\\nraisa,usai disini,idn,indonesia,32 juta\")\n",
        "\n",
        "file2.close()\n",
        "\n"
      ],
      "metadata": {
        "id": "muSzTDIb7uaE"
      },
      "execution_count": 30,
      "outputs": []
    },
    {
      "cell_type": "code",
      "source": [
        "file = open('file_lagu.txt','r')\n",
        "file3 = open('shawn mendes.txt', 'w')\n",
        "\n",
        "file3.write(\"penyanyi,judul lagu,asal penyanyi,jumlah_diputar\")\n",
        "file3.write(\"\\nshawn mendes,treat you better,can,kanada,1 milyar\")\n",
        "file3.write(\"\\nshawn mendes,imagination,can,kanada,1 milyar\")\n",
        "\n",
        "file3.close()"
      ],
      "metadata": {
        "id": "1wnrZFZWAmtq"
      },
      "execution_count": 32,
      "outputs": []
    },
    {
      "cell_type": "code",
      "source": [
        "file = open('file_lagu.txt','r')\n",
        "file4 = open('ariana grande.txt', 'w')\n",
        "\n",
        "file4.write(\"penyanyi,judul lagu,asal penyanyi,jumlah_diputar\")\n",
        "file4.write(\"\\nariana grande,position,usa,amerika serikat,700 juta\")\n",
        "file4.write(\"\\narianda grande,bang bang,usa,amerika serikat,2 milyar\")\n",
        "\n",
        "file4.close()"
      ],
      "metadata": {
        "id": "-q5Ps4ZKB9kS"
      },
      "execution_count": 9,
      "outputs": []
    },
    {
      "cell_type": "code",
      "source": [
        "file = open('file_lagu.txt','r')\n",
        "file5 = open('justin bieber.txt', 'w')\n",
        "\n",
        "file5.write(\"penyanyi,judul lagu,asal penyanyi,jumlah_diputar\")\n",
        "file5.write(\"\\njustin bieber,sorry,can,kanada,1 milyar\")\n",
        "file5.write(\"\\njustin bieber,lonely,can,kanada,200 juta\")\n",
        "\n",
        "file5.close()"
      ],
      "metadata": {
        "id": "NPyP8OfoCxUd"
      },
      "execution_count": 12,
      "outputs": []
    },
    {
      "cell_type": "code",
      "source": [
        "file6 = open('fiera bersari.txt', 'w')\n",
        "file7 = open('lyodra ginting.txt', 'w')\n",
        "file8 = open('armada.txt', 'w')"
      ],
      "metadata": {
        "id": "I1vMDJ1vDaH0"
      },
      "execution_count": null,
      "outputs": []
    },
    {
      "cell_type": "code",
      "source": [
        "file = open('file_lagu.txt','r')\n",
        "file6 = open('fiera bersari.txt', 'w')\n",
        "\n",
        "file6.write(\"penyanyi,judul lagu,asal penyanyi,jumlah_diputar\")\n",
        "file6.write(\"\\nfiera bersari,waktu yang salah,idn,indonesia,70 juta\")\n",
        "\n",
        "file6.close()\n"
      ],
      "metadata": {
        "id": "90umY5z4DbfD"
      },
      "execution_count": 16,
      "outputs": []
    },
    {
      "cell_type": "code",
      "source": [
        "file = open('file_lagu.txt','r')\n",
        "file7 = open('lyodra ginting.txt', 'w')\n",
        "\n",
        "file7.write(\"penyanyi,judul lagu,asal penyanyi,jumlah_diputar\")\n",
        "file7.write(\"\\nlyodra ginting,pesan terakhir,idn,indoensia,10 juta\")\n",
        "\n",
        "file7.close()"
      ],
      "metadata": {
        "id": "nhqODokzDfWr"
      },
      "execution_count": 15,
      "outputs": []
    },
    {
      "cell_type": "code",
      "source": [
        "file = open('file_lagu.txt','r')\n",
        "file8 = open('armada.txt', 'w')\n",
        "\n",
        "file8.write(\"penyanyi,judul lagu,asal penyanyi,jumlah_diputar\")\n",
        "file8.write(\"\\narmada,awas jatuh cinta,idn,indonesia,60 juta\")\n",
        "\n",
        "file8.close()"
      ],
      "metadata": {
        "id": "CYUO4EQUEyXa"
      },
      "execution_count": 17,
      "outputs": []
    },
    {
      "cell_type": "code",
      "source": [
        "file2 = open(\"raisa.txt\",\"a\")\n",
        "file9 = open(\"lagu_tambahan\",\"w\")\n",
        "\n",
        "file2.write(\"\\nraisa,jauh hati,idn,indonesia,26 juta\")\n",
        "file2.write(\"\\nraisa,someday,idn,indonesia,2 juta\")\n",
        "file2.write(\"\\nraisa,teka-teki,idn,indonesia,6 juta\")\n",
        "file2.write(\"\\nraisa,kutukan,idn,indonesia,2 juta\")\n",
        "file2.write(\"\\nraisa,ragu,idn,indonesia,2 juta\")\n",
        "\n",
        "file2.close()"
      ],
      "metadata": {
        "id": "7gPC7yeWGS9h"
      },
      "execution_count": 31,
      "outputs": []
    },
    {
      "cell_type": "code",
      "source": [
        "file2=open(\"raisa.txt\",\"r\")\n",
        "\n",
        "x = file2.read()\n",
        "print(x)"
      ],
      "metadata": {
        "colab": {
          "base_uri": "https://localhost:8080/"
        },
        "id": "YlY7p9gZJspQ",
        "outputId": "43f8de09-796a-4798-d0d4-c861ec962f0c"
      },
      "execution_count": 28,
      "outputs": [
        {
          "output_type": "stream",
          "name": "stdout",
          "text": [
            "penyanyi,judul lagu,asal penyanyi,jumlah_diputar\n",
            "raisa,ragu,idn,indonesia,30 juta\n",
            "raisa,kali kedua,idn,indonesia,56 juta\n",
            "raisa,usai disini,idn,indonesia,32 jutaraisa,jauh hati,idn,indonesia,26 juta\n",
            "raisa,someday,idn,indonesia,2 juta\n",
            "raisa,teka-teki,idn,indonesia,6 juta\n",
            "raisa,kutukan,idn,indonesia,2 juta\n",
            "raisa,ragu,idn,indonesia,2 juta\n"
          ]
        }
      ]
    },
    {
      "cell_type": "code",
      "source": [
        "file3 = open('shawn mendes.txt', 'a')\n",
        "\n",
        "file3.write(\"\\nshawn mendes,it'll be okay,can,kanada,26 juta\")\n",
        "file3.write(\"\\nshawn mendes,there's nothing holdin' me back,can,kanada,1 milyar\")\n",
        "file3.write(\"\\nshawn mendes,wonder,can,kanada,5 juta\")\n",
        "file3.write(\"\\nshawn mendes,mercy,can,kanada,4 juta\")\n",
        "file3.write(\"\\nshawn mendes,show you,can,kanada,1 milyar\")\n",
        "\n",
        "file3.close()"
      ],
      "metadata": {
        "id": "4Mq_LGPGOQfF"
      },
      "execution_count": 33,
      "outputs": []
    },
    {
      "cell_type": "code",
      "source": [
        "file4 = open('ariana grande.txt', 'a')\n",
        "\n",
        "file4.write(\"\\nariana grande,one last time,usa,amerika serikat,406 juta\")\n",
        "file4.write(\"\\nariana grande,side to side,usa,amerika serikat,2 milyar\")\n",
        "file4.write(\"\\nariana grande,almost is never enough,usa,amerika serikat,97 juta\")\n",
        "file4.write(\"\\nariana grande,stuck with U,usa,amerika serikat,111 juta\")\n",
        "file4.write(\"\\nariana grande,no tears left to cry,usa,amerika serikat,1 milyar\")\n",
        "\n",
        "file4.close()"
      ],
      "metadata": {
        "id": "dmtxYil9RAdG"
      },
      "execution_count": 34,
      "outputs": []
    }
  ]
}