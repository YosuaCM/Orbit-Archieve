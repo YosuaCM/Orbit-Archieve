{
  "nbformat": 4,
  "nbformat_minor": 0,
  "metadata": {
    "colab": {
      "name": "Untitled5.ipynb",
      "provenance": [],
      "authorship_tag": "ABX9TyOwSxFe2/cqe3kPl5+pwX8v",
      "include_colab_link": true
    },
    "kernelspec": {
      "name": "python3",
      "display_name": "Python 3"
    },
    "language_info": {
      "name": "python"
    }
  },
  "cells": [
    {
      "cell_type": "markdown",
      "metadata": {
        "id": "view-in-github",
        "colab_type": "text"
      },
      "source": [
        "<a href=\"https://colab.research.google.com/github/YosuaCM/Orbit-Archieve/blob/main/Quiz1_nomor%202.ipynb\" target=\"_parent\"><img src=\"https://colab.research.google.com/assets/colab-badge.svg\" alt=\"Open In Colab\"/></a>"
      ]
    },
    {
      "cell_type": "code",
      "execution_count": null,
      "metadata": {
        "colab": {
          "base_uri": "https://localhost:8080/"
        },
        "id": "uPkXYwWsgc4e",
        "outputId": "5525d469-c16e-4caa-bdcd-49f6a73097f4"
      },
      "outputs": [
        {
          "output_type": "stream",
          "name": "stdout",
          "text": [
            "123\n",
            "234\n",
            "Input : 123 234 Hasil : 357 123234\n"
          ]
        }
      ],
      "source": [
        "while True :\n",
        "    #pengambilan data yang ingin di input\n",
        "    a=input(); b=input()\n",
        "    #pemrosesan data dengan cara menjumlahkan bilangan 1 yaitu a dan bilangan 2 yaitu b\n",
        "    c=int(a)+int(b)\n",
        "    #mengubah c yang awalnya bertipe integer menjadi string\n",
        "    d = str(c)\n",
        "    print(\"Input : \"+str(a)+\" \"+str(b)+\" Hasil : \"+d,a+b)\n",
        "\n",
        "    if input(str(\"Mau memakai kalkulator lagi?\"))!='y':\n",
        "        break\n"
      ]
    }
  ]
}