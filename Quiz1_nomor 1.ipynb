{
  "nbformat": 4,
  "nbformat_minor": 0,
  "metadata": {
    "colab": {
      "name": "Untitled6.ipynb",
      "provenance": [],
      "authorship_tag": "ABX9TyMnmwLWrmrFBJLISnbn9SOH",
      "include_colab_link": true
    },
    "kernelspec": {
      "name": "python3",
      "display_name": "Python 3"
    },
    "language_info": {
      "name": "python"
    }
  },
  "cells": [
    {
      "cell_type": "markdown",
      "metadata": {
        "id": "view-in-github",
        "colab_type": "text"
      },
      "source": [
        "<a href=\"https://colab.research.google.com/github/YosuaCM/Orbit-Archieve/blob/main/Quiz1_nomor%201.ipynb\" target=\"_parent\"><img src=\"https://colab.research.google.com/assets/colab-badge.svg\" alt=\"Open In Colab\"/></a>"
      ]
    },
    {
      "cell_type": "code",
      "execution_count": null,
      "metadata": {
        "colab": {
          "base_uri": "https://localhost:8080/"
        },
        "id": "lGY7hKkhFowT",
        "outputId": "d8ff040b-f286-4502-a22b-8226e9bf0f85"
      },
      "outputs": [
        {
          "output_type": "stream",
          "name": "stdout",
          "text": [
            "2\n",
            "4\n",
            "Operator +\n",
            "Operator -\n",
            "Operator /\n",
            "Operator %\n",
            "Operator *\n",
            "Pilih operator : \n",
            "/\n",
            "hasil yang diperoleh adalah 0.5 :)\n"
          ]
        }
      ],
      "source": [
        "while True:\n",
        "  #pengambilan data dengan cara menginput nilai a dan b\n",
        "  a = int(input())\n",
        "  b = int(input())\n",
        "\n",
        "  #keterangan operator yang akan digunakan\n",
        "  print(\"Operator +\")\n",
        "  print(\"Operator -\")\n",
        "  print(\"Operator /\")\n",
        "  print(\"Operator %\")\n",
        "  print(\"Operator *\")\n",
        "\n",
        "  #pengambilan data dengan cara menginput operator yang diinginkan\n",
        "  print(\"Pilih operator : \")\n",
        "  x = input()\n",
        "\n",
        "  #percabangan operator\n",
        "  if x == '+':\n",
        "    penjumlahan = a + b\n",
        "    print(\"hasil yang diperoleh adalah\",int(penjumlahan),\":)\")\n",
        "  elif x == '-':\n",
        "    pengurangan = a - b\n",
        "    print(\"hasil yang diperoleh adalah\",int(pengurangan),\":)\")\n",
        "  elif x == '/':\n",
        "    if (b != 0) :\n",
        "      pembagian = a / b\n",
        "      print(\"hasil yang diperoleh adalah\",float(pembagian),\":)\")\n",
        "    else:\n",
        "      print(\"Maaf keterbagian dengan 0 tidak terdefinisi :(\")  \n",
        "  elif x == '%':\n",
        "    modulo = a % b\n",
        "    print(\"hasil yang diperoleh adalah\",int(modulo),\":)\")\n",
        "  elif x == '*':\n",
        "    perkalian = a * b\n",
        "    print(\"hasil yang diperoleh adalah\",int(perkalian),\":)\")\n",
        "  else:\n",
        "    print(\"Inputan anda salah hehe...\")\n",
        "\n",
        "  if input(str(\"Mau memakai kalkulator lagi?\"))!='y':\n",
        "    break\n"
      ]
    }
  ]
}