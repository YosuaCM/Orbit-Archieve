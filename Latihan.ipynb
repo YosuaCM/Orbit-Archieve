{
  "nbformat": 4,
  "nbformat_minor": 0,
  "metadata": {
    "colab": {
      "name": "Untitled12.ipynb",
      "provenance": [],
      "authorship_tag": "ABX9TyMJL66mE4uvPp2MkAAQsUVu",
      "include_colab_link": true
    },
    "kernelspec": {
      "name": "python3",
      "display_name": "Python 3"
    },
    "language_info": {
      "name": "python"
    }
  },
  "cells": [
    {
      "cell_type": "markdown",
      "metadata": {
        "id": "view-in-github",
        "colab_type": "text"
      },
      "source": [
        "<a href=\"https://colab.research.google.com/github/YosuaCM/Orbit-Archieve/blob/main/Latihan.ipynb\" target=\"_parent\"><img src=\"https://colab.research.google.com/assets/colab-badge.svg\" alt=\"Open In Colab\"/></a>"
      ]
    },
    {
      "cell_type": "markdown",
      "source": [
        "Nomor 1"
      ],
      "metadata": {
        "id": "6SjOgwKy74Gh"
      }
    },
    {
      "cell_type": "code",
      "source": [
        "#Menghitung Luas sebuah bangun datar\n",
        "def cetakdaftar():\n",
        "  print(\"Sistem Hitung Luas Bangun Datar \\n 1. Luas Jajar Genjang \\n 2. Luas Persegi \\n 3. Luas Lingkaran\")\n",
        "\n",
        "def checkinput(checkin):\n",
        "  if (checkin==1):\n",
        "    luasjajargenjang()\n",
        "  elif(checkin==2):\n",
        "    luaspersegi()\n",
        "  elif(checkin==3):\n",
        "    luaslingkaran()\n",
        "  else:\n",
        "    print(\"Input Menu Salah!\")\n",
        "    print(\"================================== \\n\")\n",
        "\n",
        "def luaspersegi():\n",
        "  sisi=int(input(\"Masukan ukuran sisi: \"))\n",
        "  totalluas=sisi * sisi\n",
        "  print(\"Luas Persegi = %i\"%totalluas)\n",
        "  print(\"================================== \\n\")\n",
        "  return totalluas\n",
        "\n",
        "def luasjajargenjang():\n",
        "  alas=int(input(\"Masukan ukuran alas: \"))\n",
        "  tinggi=int(input(\"Masukan ukuran tinggi: \"))\n",
        "  totalluas=alas * tinggi\n",
        "  print(\"Luas jajargenjang = %i\"%totalluas)\n",
        "  print(\"================================== \\n\")\n",
        "  return totalluas\n",
        "  \n",
        "def luaslingkaran():\n",
        "  phi=3.14\n",
        "  jari=int(input(\"Masukan ukuran jari-jari: \"))\n",
        "  totalluas=phi*(jari*jari)\n",
        "  print(\"Luas Lingkaran = %f\"%totalluas)\n",
        "  print(\"================================== \\n\")\n",
        "  return totalluas\n",
        "\n",
        "while(1):\n",
        "  cetakdaftar()\n",
        "  input_baru = input(\"input menu dalam format angka: \")\n",
        "  if(input_baru == \"selesai\"): \n",
        "    print(\"Terima kasih sudah menggunakan sistem kami!\")\n",
        "    break\n",
        "  fungsi = checkinput(int(input_baru))"
      ],
      "metadata": {
        "id": "XJAyJh7H77eo"
      },
      "execution_count": null,
      "outputs": []
    },
    {
      "cell_type": "markdown",
      "source": [
        "Nomor 2"
      ],
      "metadata": {
        "id": "-x5ZQP4L794j"
      }
    },
    {
      "cell_type": "code",
      "source": [
        "listx=[1,2,3,4,5,6,7,8,9,10]\n",
        "for i in range(10):\n",
        "    squarex = map(lambda x:x**3,listx)\n",
        "pangkat = list(squarex)\n",
        "print(pangkat)\n",
        "penjumlahan = sum(pangkat)\n",
        "print(penjumlahan)"
      ],
      "metadata": {
        "colab": {
          "base_uri": "https://localhost:8080/"
        },
        "id": "jOk1yFw68EUn",
        "outputId": "301e0e61-f11d-4e2c-de66-dd0741d8a85b"
      },
      "execution_count": 50,
      "outputs": [
        {
          "output_type": "stream",
          "name": "stdout",
          "text": [
            "[1, 8, 27, 64, 125, 216, 343, 512, 729, 1000]\n",
            "3025\n"
          ]
        }
      ]
    }
  ]
}